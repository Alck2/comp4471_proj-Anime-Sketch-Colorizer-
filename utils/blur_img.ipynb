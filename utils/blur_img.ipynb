{
 "cells": [
  {
   "cell_type": "code",
   "execution_count": 1,
   "id": "835e9fb4",
   "metadata": {},
   "outputs": [],
   "source": [
    "from blur import *\n",
    "from PIL import Image\n",
    "from matplotlib import pyplot as plt\n",
    "import numpy as np\n",
    "import os"
   ]
  },
  {
   "cell_type": "code",
   "execution_count": 2,
   "id": "faf98df5",
   "metadata": {},
   "outputs": [],
   "source": [
    "save_path = '../dataset/reference'\n",
    "\n",
    "\n",
    "\n",
    "for sub_dir in ['train','val','test']:\n",
    "    directory = '../dataset/%s/color'%(sub_dir)\n",
    "    for filename in os.listdir(directory):\n",
    "        img = np.asarray(Image.open('%s/%s'%(directory, filename)))\n",
    "        blur = blur_img(img, (100,100))\n",
    "        img_blur = Image.fromarray(blur)\n",
    "        img_blur.save('%s/%s'%(save_path, filename))\n",
    "    "
   ]
  },
  {
   "cell_type": "code",
   "execution_count": null,
   "id": "149c8b2e",
   "metadata": {},
   "outputs": [],
   "source": []
  }
 ],
 "metadata": {
  "kernelspec": {
   "display_name": "Python 3 (ipykernel)",
   "language": "python",
   "name": "python3"
  },
  "language_info": {
   "codemirror_mode": {
    "name": "ipython",
    "version": 3
   },
   "file_extension": ".py",
   "mimetype": "text/x-python",
   "name": "python",
   "nbconvert_exporter": "python",
   "pygments_lexer": "ipython3",
   "version": "3.10.6"
  }
 },
 "nbformat": 4,
 "nbformat_minor": 5
}
